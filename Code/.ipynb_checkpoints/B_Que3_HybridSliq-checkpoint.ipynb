{
 "cells": [
  {
   "cell_type": "code",
   "execution_count": 1,
   "metadata": {
    "id": "P153x7nV3yzt"
   },
   "outputs": [],
   "source": [
    "import numpy as np\n",
    "import pandas as pd\n",
    "import matplotlib.pyplot as plt\n",
    "from sklearn.tree import DecisionTreeClassifier\n",
    "import math\n",
    "from sklearn import tree\n",
    "import random\n",
    "from sklearn.tree import _tree\n",
    "from copy import deepcopy\n",
    "from sklearn.metrics import recall_score, accuracy_score,precision_score\n"
   ]
  },
  {
   "cell_type": "code",
   "execution_count": 2,
   "metadata": {
    "colab": {
     "base_uri": "https://localhost:8080/",
     "height": 461
    },
    "id": "O6Kp7nmj4G1x",
    "outputId": "28ca19b6-f368-4361-d430-bb8d0abbb15d"
   },
   "outputs": [
    {
     "data": {
      "text/html": [
       "<div>\n",
       "<style scoped>\n",
       "    .dataframe tbody tr th:only-of-type {\n",
       "        vertical-align: middle;\n",
       "    }\n",
       "\n",
       "    .dataframe tbody tr th {\n",
       "        vertical-align: top;\n",
       "    }\n",
       "\n",
       "    .dataframe thead th {\n",
       "        text-align: right;\n",
       "    }\n",
       "</style>\n",
       "<table border=\"1\" class=\"dataframe\">\n",
       "  <thead>\n",
       "    <tr style=\"text-align: right;\">\n",
       "      <th></th>\n",
       "      <th>baseline value</th>\n",
       "      <th>accelerations</th>\n",
       "      <th>fetal_movement</th>\n",
       "      <th>uterine_contractions</th>\n",
       "      <th>light_decelerations</th>\n",
       "      <th>severe_decelerations</th>\n",
       "      <th>prolongued_decelerations</th>\n",
       "      <th>abnormal_short_term_variability</th>\n",
       "      <th>mean_value_of_short_term_variability</th>\n",
       "      <th>percentage_of_time_with_abnormal_long_term_variability</th>\n",
       "      <th>...</th>\n",
       "      <th>histogram_min</th>\n",
       "      <th>histogram_max</th>\n",
       "      <th>histogram_number_of_peaks</th>\n",
       "      <th>histogram_number_of_zeroes</th>\n",
       "      <th>histogram_mode</th>\n",
       "      <th>histogram_mean</th>\n",
       "      <th>histogram_median</th>\n",
       "      <th>histogram_variance</th>\n",
       "      <th>histogram_tendency</th>\n",
       "      <th>fetal_health</th>\n",
       "    </tr>\n",
       "  </thead>\n",
       "  <tbody>\n",
       "    <tr>\n",
       "      <th>0</th>\n",
       "      <td>132</td>\n",
       "      <td>0.006</td>\n",
       "      <td>0.000</td>\n",
       "      <td>0.006</td>\n",
       "      <td>0.003</td>\n",
       "      <td>0.0</td>\n",
       "      <td>0.0</td>\n",
       "      <td>17</td>\n",
       "      <td>2.1</td>\n",
       "      <td>0</td>\n",
       "      <td>...</td>\n",
       "      <td>68</td>\n",
       "      <td>198</td>\n",
       "      <td>6</td>\n",
       "      <td>1</td>\n",
       "      <td>141</td>\n",
       "      <td>136</td>\n",
       "      <td>140</td>\n",
       "      <td>12</td>\n",
       "      <td>0</td>\n",
       "      <td>1</td>\n",
       "    </tr>\n",
       "    <tr>\n",
       "      <th>1</th>\n",
       "      <td>133</td>\n",
       "      <td>0.003</td>\n",
       "      <td>0.000</td>\n",
       "      <td>0.008</td>\n",
       "      <td>0.003</td>\n",
       "      <td>0.0</td>\n",
       "      <td>0.0</td>\n",
       "      <td>16</td>\n",
       "      <td>2.1</td>\n",
       "      <td>0</td>\n",
       "      <td>...</td>\n",
       "      <td>68</td>\n",
       "      <td>198</td>\n",
       "      <td>5</td>\n",
       "      <td>1</td>\n",
       "      <td>141</td>\n",
       "      <td>135</td>\n",
       "      <td>138</td>\n",
       "      <td>13</td>\n",
       "      <td>0</td>\n",
       "      <td>1</td>\n",
       "    </tr>\n",
       "    <tr>\n",
       "      <th>2</th>\n",
       "      <td>134</td>\n",
       "      <td>0.003</td>\n",
       "      <td>0.000</td>\n",
       "      <td>0.008</td>\n",
       "      <td>0.003</td>\n",
       "      <td>0.0</td>\n",
       "      <td>0.0</td>\n",
       "      <td>16</td>\n",
       "      <td>2.4</td>\n",
       "      <td>0</td>\n",
       "      <td>...</td>\n",
       "      <td>53</td>\n",
       "      <td>170</td>\n",
       "      <td>11</td>\n",
       "      <td>0</td>\n",
       "      <td>137</td>\n",
       "      <td>134</td>\n",
       "      <td>137</td>\n",
       "      <td>13</td>\n",
       "      <td>1</td>\n",
       "      <td>1</td>\n",
       "    </tr>\n",
       "    <tr>\n",
       "      <th>3</th>\n",
       "      <td>132</td>\n",
       "      <td>0.007</td>\n",
       "      <td>0.000</td>\n",
       "      <td>0.008</td>\n",
       "      <td>0.000</td>\n",
       "      <td>0.0</td>\n",
       "      <td>0.0</td>\n",
       "      <td>16</td>\n",
       "      <td>2.4</td>\n",
       "      <td>0</td>\n",
       "      <td>...</td>\n",
       "      <td>53</td>\n",
       "      <td>170</td>\n",
       "      <td>9</td>\n",
       "      <td>0</td>\n",
       "      <td>137</td>\n",
       "      <td>136</td>\n",
       "      <td>138</td>\n",
       "      <td>11</td>\n",
       "      <td>1</td>\n",
       "      <td>1</td>\n",
       "    </tr>\n",
       "    <tr>\n",
       "      <th>4</th>\n",
       "      <td>131</td>\n",
       "      <td>0.005</td>\n",
       "      <td>0.072</td>\n",
       "      <td>0.008</td>\n",
       "      <td>0.003</td>\n",
       "      <td>0.0</td>\n",
       "      <td>0.0</td>\n",
       "      <td>28</td>\n",
       "      <td>1.4</td>\n",
       "      <td>0</td>\n",
       "      <td>...</td>\n",
       "      <td>88</td>\n",
       "      <td>154</td>\n",
       "      <td>5</td>\n",
       "      <td>0</td>\n",
       "      <td>135</td>\n",
       "      <td>134</td>\n",
       "      <td>137</td>\n",
       "      <td>7</td>\n",
       "      <td>1</td>\n",
       "      <td>1</td>\n",
       "    </tr>\n",
       "    <tr>\n",
       "      <th>...</th>\n",
       "      <td>...</td>\n",
       "      <td>...</td>\n",
       "      <td>...</td>\n",
       "      <td>...</td>\n",
       "      <td>...</td>\n",
       "      <td>...</td>\n",
       "      <td>...</td>\n",
       "      <td>...</td>\n",
       "      <td>...</td>\n",
       "      <td>...</td>\n",
       "      <td>...</td>\n",
       "      <td>...</td>\n",
       "      <td>...</td>\n",
       "      <td>...</td>\n",
       "      <td>...</td>\n",
       "      <td>...</td>\n",
       "      <td>...</td>\n",
       "      <td>...</td>\n",
       "      <td>...</td>\n",
       "      <td>...</td>\n",
       "      <td>...</td>\n",
       "    </tr>\n",
       "    <tr>\n",
       "      <th>1445</th>\n",
       "      <td>150</td>\n",
       "      <td>0.000</td>\n",
       "      <td>0.000</td>\n",
       "      <td>0.001</td>\n",
       "      <td>0.000</td>\n",
       "      <td>0.0</td>\n",
       "      <td>0.0</td>\n",
       "      <td>81</td>\n",
       "      <td>0.4</td>\n",
       "      <td>17</td>\n",
       "      <td>...</td>\n",
       "      <td>130</td>\n",
       "      <td>174</td>\n",
       "      <td>2</td>\n",
       "      <td>0</td>\n",
       "      <td>152</td>\n",
       "      <td>150</td>\n",
       "      <td>151</td>\n",
       "      <td>1</td>\n",
       "      <td>0</td>\n",
       "      <td>3</td>\n",
       "    </tr>\n",
       "    <tr>\n",
       "      <th>1446</th>\n",
       "      <td>150</td>\n",
       "      <td>0.000</td>\n",
       "      <td>0.003</td>\n",
       "      <td>0.000</td>\n",
       "      <td>0.000</td>\n",
       "      <td>0.0</td>\n",
       "      <td>0.0</td>\n",
       "      <td>80</td>\n",
       "      <td>0.4</td>\n",
       "      <td>24</td>\n",
       "      <td>...</td>\n",
       "      <td>124</td>\n",
       "      <td>176</td>\n",
       "      <td>1</td>\n",
       "      <td>0</td>\n",
       "      <td>150</td>\n",
       "      <td>152</td>\n",
       "      <td>153</td>\n",
       "      <td>2</td>\n",
       "      <td>0</td>\n",
       "      <td>3</td>\n",
       "    </tr>\n",
       "    <tr>\n",
       "      <th>1447</th>\n",
       "      <td>150</td>\n",
       "      <td>0.000</td>\n",
       "      <td>0.001</td>\n",
       "      <td>0.000</td>\n",
       "      <td>0.000</td>\n",
       "      <td>0.0</td>\n",
       "      <td>0.0</td>\n",
       "      <td>84</td>\n",
       "      <td>0.3</td>\n",
       "      <td>32</td>\n",
       "      <td>...</td>\n",
       "      <td>136</td>\n",
       "      <td>156</td>\n",
       "      <td>0</td>\n",
       "      <td>0</td>\n",
       "      <td>150</td>\n",
       "      <td>150</td>\n",
       "      <td>151</td>\n",
       "      <td>1</td>\n",
       "      <td>1</td>\n",
       "      <td>3</td>\n",
       "    </tr>\n",
       "    <tr>\n",
       "      <th>1448</th>\n",
       "      <td>150</td>\n",
       "      <td>0.000</td>\n",
       "      <td>0.002</td>\n",
       "      <td>0.000</td>\n",
       "      <td>0.000</td>\n",
       "      <td>0.0</td>\n",
       "      <td>0.0</td>\n",
       "      <td>84</td>\n",
       "      <td>0.3</td>\n",
       "      <td>37</td>\n",
       "      <td>...</td>\n",
       "      <td>140</td>\n",
       "      <td>156</td>\n",
       "      <td>0</td>\n",
       "      <td>0</td>\n",
       "      <td>150</td>\n",
       "      <td>150</td>\n",
       "      <td>151</td>\n",
       "      <td>0</td>\n",
       "      <td>0</td>\n",
       "      <td>3</td>\n",
       "    </tr>\n",
       "    <tr>\n",
       "      <th>1449</th>\n",
       "      <td>148</td>\n",
       "      <td>0.000</td>\n",
       "      <td>0.002</td>\n",
       "      <td>0.005</td>\n",
       "      <td>0.000</td>\n",
       "      <td>0.0</td>\n",
       "      <td>0.0</td>\n",
       "      <td>82</td>\n",
       "      <td>0.4</td>\n",
       "      <td>5</td>\n",
       "      <td>...</td>\n",
       "      <td>142</td>\n",
       "      <td>160</td>\n",
       "      <td>0</td>\n",
       "      <td>0</td>\n",
       "      <td>150</td>\n",
       "      <td>151</td>\n",
       "      <td>151</td>\n",
       "      <td>0</td>\n",
       "      <td>0</td>\n",
       "      <td>3</td>\n",
       "    </tr>\n",
       "  </tbody>\n",
       "</table>\n",
       "<p>1450 rows × 22 columns</p>\n",
       "</div>"
      ],
      "text/plain": [
       "      baseline value  accelerations  fetal_movement  uterine_contractions  \\\n",
       "0                132          0.006           0.000                 0.006   \n",
       "1                133          0.003           0.000                 0.008   \n",
       "2                134          0.003           0.000                 0.008   \n",
       "3                132          0.007           0.000                 0.008   \n",
       "4                131          0.005           0.072                 0.008   \n",
       "...              ...            ...             ...                   ...   \n",
       "1445             150          0.000           0.000                 0.001   \n",
       "1446             150          0.000           0.003                 0.000   \n",
       "1447             150          0.000           0.001                 0.000   \n",
       "1448             150          0.000           0.002                 0.000   \n",
       "1449             148          0.000           0.002                 0.005   \n",
       "\n",
       "      light_decelerations  severe_decelerations  prolongued_decelerations  \\\n",
       "0                   0.003                   0.0                       0.0   \n",
       "1                   0.003                   0.0                       0.0   \n",
       "2                   0.003                   0.0                       0.0   \n",
       "3                   0.000                   0.0                       0.0   \n",
       "4                   0.003                   0.0                       0.0   \n",
       "...                   ...                   ...                       ...   \n",
       "1445                0.000                   0.0                       0.0   \n",
       "1446                0.000                   0.0                       0.0   \n",
       "1447                0.000                   0.0                       0.0   \n",
       "1448                0.000                   0.0                       0.0   \n",
       "1449                0.000                   0.0                       0.0   \n",
       "\n",
       "      abnormal_short_term_variability  mean_value_of_short_term_variability  \\\n",
       "0                                  17                                   2.1   \n",
       "1                                  16                                   2.1   \n",
       "2                                  16                                   2.4   \n",
       "3                                  16                                   2.4   \n",
       "4                                  28                                   1.4   \n",
       "...                               ...                                   ...   \n",
       "1445                               81                                   0.4   \n",
       "1446                               80                                   0.4   \n",
       "1447                               84                                   0.3   \n",
       "1448                               84                                   0.3   \n",
       "1449                               82                                   0.4   \n",
       "\n",
       "      percentage_of_time_with_abnormal_long_term_variability  ...  \\\n",
       "0                                                     0       ...   \n",
       "1                                                     0       ...   \n",
       "2                                                     0       ...   \n",
       "3                                                     0       ...   \n",
       "4                                                     0       ...   \n",
       "...                                                 ...       ...   \n",
       "1445                                                 17       ...   \n",
       "1446                                                 24       ...   \n",
       "1447                                                 32       ...   \n",
       "1448                                                 37       ...   \n",
       "1449                                                  5       ...   \n",
       "\n",
       "      histogram_min  histogram_max  histogram_number_of_peaks  \\\n",
       "0                68            198                          6   \n",
       "1                68            198                          5   \n",
       "2                53            170                         11   \n",
       "3                53            170                          9   \n",
       "4                88            154                          5   \n",
       "...             ...            ...                        ...   \n",
       "1445            130            174                          2   \n",
       "1446            124            176                          1   \n",
       "1447            136            156                          0   \n",
       "1448            140            156                          0   \n",
       "1449            142            160                          0   \n",
       "\n",
       "      histogram_number_of_zeroes  histogram_mode  histogram_mean  \\\n",
       "0                              1             141             136   \n",
       "1                              1             141             135   \n",
       "2                              0             137             134   \n",
       "3                              0             137             136   \n",
       "4                              0             135             134   \n",
       "...                          ...             ...             ...   \n",
       "1445                           0             152             150   \n",
       "1446                           0             150             152   \n",
       "1447                           0             150             150   \n",
       "1448                           0             150             150   \n",
       "1449                           0             150             151   \n",
       "\n",
       "      histogram_median  histogram_variance  histogram_tendency  fetal_health  \n",
       "0                  140                  12                   0             1  \n",
       "1                  138                  13                   0             1  \n",
       "2                  137                  13                   1             1  \n",
       "3                  138                  11                   1             1  \n",
       "4                  137                   7                   1             1  \n",
       "...                ...                 ...                 ...           ...  \n",
       "1445               151                   1                   0             3  \n",
       "1446               153                   2                   0             3  \n",
       "1447               151                   1                   1             3  \n",
       "1448               151                   0                   0             3  \n",
       "1449               151                   0                   0             3  \n",
       "\n",
       "[1450 rows x 22 columns]"
      ]
     },
     "execution_count": 2,
     "metadata": {},
     "output_type": "execute_result"
    }
   ],
   "source": [
    "df = pd.read_csv(\"data_1.csv\")\n",
    "df"
   ]
  },
  {
   "cell_type": "code",
   "execution_count": 4,
   "metadata": {
    "id": "sapWdeuZ4Tat"
   },
   "outputs": [],
   "source": [
    "df= df.sample(frac=1,random_state=1)"
   ]
  },
  {
   "cell_type": "code",
   "execution_count": 5,
   "metadata": {
    "id": "BOwj_iJI4WLl"
   },
   "outputs": [],
   "source": [
    "target = df.columns[-1]\n",
    "features = df.columns[:-1]"
   ]
  },
  {
   "cell_type": "code",
   "execution_count": 6,
   "metadata": {
    "id": "DfE_MMXy4vZG"
   },
   "outputs": [],
   "source": [
    "def splitting(features,target,dataFrame):\n",
    "  splitting_index=int(0.8*dataFrame.shape[0])\n",
    "  train_X=features[0:splitting_index]\n",
    "  train_y=target[0:splitting_index]\n",
    "  test_X=features[splitting_index:]\n",
    "  test_y=target[splitting_index:]\n",
    "  return train_X,train_y,test_X,test_y"
   ]
  },
  {
   "cell_type": "code",
   "execution_count": 7,
   "metadata": {
    "id": "HFSlKCcj4xWm"
   },
   "outputs": [],
   "source": [
    "train_X,train_y,test_X,test_y=splitting(df[features],df[target],df)"
   ]
  },
  {
   "cell_type": "code",
   "execution_count": 8,
   "metadata": {
    "colab": {
     "base_uri": "https://localhost:8080/"
    },
    "id": "NP8r2Vl9q31a",
    "outputId": "f41aec24-dd14-4e18-bb96-f096f888f298"
   },
   "outputs": [
    {
     "data": {
      "text/plain": [
       "((1160, 21), (290, 21))"
      ]
     },
     "execution_count": 8,
     "metadata": {},
     "output_type": "execute_result"
    }
   ],
   "source": [
    "train_X.shape, test_X.shape"
   ]
  },
  {
   "cell_type": "code",
   "execution_count": 9,
   "metadata": {
    "id": "xZUhUljFcOBv"
   },
   "outputs": [],
   "source": [
    "#Function gives prediction for the tree and data passed as an argument\n",
    "def my_predict(tree_obj, data):\n",
    "  if type(data) == pd.core.frame.DataFrame:\n",
    "    data = data.to_numpy()\n",
    "  classes = tree_obj.classes_\n",
    "  feature = tree_obj.tree_.feature\n",
    "  children_left = tree1.tree_.children_left\n",
    "  children_right = tree1.tree_.children_right\n",
    "  threshold = tree1.tree_.threshold\n",
    "  value = tree1.tree_.value\n",
    "  prediction = []\n",
    "  for d in data:\n",
    "    node = 0\n",
    "    while feature[node] != _tree.TREE_UNDEFINED:\n",
    "      if d[feature[node]] <= threshold[node]:\n",
    "        node = children_left[node]\n",
    "      else:\n",
    "        node = children_right[node]\n",
    "    prediction.append(classes[np.argmax(value[node])])\n",
    "  return np.array(prediction)"
   ]
  },
  {
   "cell_type": "code",
   "execution_count": 10,
   "metadata": {
    "id": "bBBYf7dqGuMC"
   },
   "outputs": [],
   "source": [
    "#Function counts number of leafs in the tree passed as an argument and node_index which is the root of the tree\n",
    "def count_n_leafs(tree1, node_index):\n",
    "  if tree1.tree_.feature[node_index] == -2:\n",
    "    return 1\n",
    "  left_subtree_node_index = tree1.tree_.children_left[node_index]\n",
    "  leaf_from_left = count_n_leafs(tree1, left_subtree_node_index)\n",
    "  right_subtree_node_index = tree1.tree_.children_right[node_index]\n",
    "  leaf_from_right = count_n_leafs(tree1, right_subtree_node_index)\n",
    "  return leaf_from_left + leaf_from_right"
   ]
  },
  {
   "cell_type": "code",
   "execution_count": 11,
   "metadata": {
    "id": "Kx536Ph9xZOp"
   },
   "outputs": [],
   "source": [
    "#Function counts number of intermediate nodes in the tree passed as an argument and node_index which is the root of the tree\n",
    "\n",
    "def count_n_intermediate(tree1, node_index):\n",
    "  if tree1.tree_.feature[node_index] == -2:\n",
    "    return 0\n",
    "  left_subtree_node_index = tree1.tree_.children_left[node_index]\n",
    "  intr_from_left = count_n_intermediate(tree1, left_subtree_node_index)\n",
    "  right_subtree_node_index = tree1.tree_.children_right[node_index]\n",
    "  intr_from_right = count_n_intermediate(tree1, right_subtree_node_index)\n",
    "  return 1 + intr_from_left + intr_from_right"
   ]
  },
  {
   "cell_type": "code",
   "execution_count": 12,
   "metadata": {
    "id": "B5XfoACF6AHo"
   },
   "outputs": [],
   "source": [
    "#MDL based cost function given in the hybrid sliq paper\n",
    "def cost_function(tree1, train_X, train_y):\n",
    "  number_of_features = 21\n",
    "  num_of_internal_nodes = count_n_intermediate(tree1, 0)\n",
    "  number_of_classes = 3\n",
    "  num_of_leaf_nodes = count_n_leafs(tree1, 0)\n",
    "  num_of_misses = (my_predict(tree1, train_X) != train_y).sum()\n",
    "  # num_rows = train_X.shape[0]\n",
    "  part1 = (math.ceil(math.log2(number_of_features)) * num_of_internal_nodes) \n",
    "  part2 = (math.ceil(math.log2(number_of_classes)) * num_of_leaf_nodes)\n",
    "  # part3 = (math.log2(num_rows) * num_of_misses)\n",
    "  cost = part1 + part2 + num_of_misses\n",
    "  return cost"
   ]
  },
  {
   "cell_type": "code",
   "execution_count": 13,
   "metadata": {
    "colab": {
     "base_uri": "https://localhost:8080/"
    },
    "id": "i5mxt6xz_Lq7",
    "outputId": "6ad03398-46fd-47e5-c322-ff9a62bffb18"
   },
   "outputs": [
    {
     "name": "stdout",
     "output_type": "stream",
     "text": [
      "325\n",
      "feature list [ 7  6 18  0 15  7  2  7 -2 16 10 -2 12 -2 -2 -2 19 -2 10 -2 -2  2 -2 -2\n",
      " 16 -2 -2 -2  1 10  2 13 11 -2 11 19 -2 -2 -2  8 -2 -2  3 -2 -2  9 10 11\n",
      " -2 -2  0 -2 19 -2 -2 -2 14 -2 -2  7 16  7 -2 -2  2 -2 14 -2 -2 -2  9  7\n",
      "  1  2  1 12 12 -2 -2 -2 -2 -2 -2 -2 -2 -2 -2 -2 -2 -2 -2 -2 -2]\n"
     ]
    }
   ],
   "source": [
    "#Prforming full pruning using feature list, left child list and right child list\n",
    "tree1=DecisionTreeClassifier(random_state=0)\n",
    "tree1.fit(train_X,train_y)\n",
    "feature_list = tree1.tree_.feature\n",
    "left_child_list = tree1.tree_.children_left\n",
    "right_child_list = tree1.tree_.children_right\n",
    "\n",
    "min_cost = 100000000\n",
    "min_cost_tree = None\n",
    "for node_index in range(len(feature_list)-1, 0, -1):\n",
    "  if feature_list[node_index] != _tree.TREE_UNDEFINED:\n",
    "    if node_index in left_child_list:\n",
    "      left_child_list[np.where(left_child_list==node_index)] = -1\n",
    "    elif node_index in right_child_list:\n",
    "      right_child_list[np.where(right_child_list == node_index)] = -1\n",
    "    feature_list[node_index] = -2\n",
    "    cost = cost_function(tree1, train_X, train_y)\n",
    "    if cost <= min_cost:\n",
    "      min_cost = cost\n",
    "      min_cost_tree = deepcopy(tree1)\n",
    "\n",
    "print(min_cost)\n",
    "print(\"feature list\", min_cost_tree.tree_.feature)\n"
   ]
  },
  {
   "cell_type": "code",
   "execution_count": 14,
   "metadata": {
    "id": "5q9gNG5HslZ8"
   },
   "outputs": [],
   "source": [
    "#Computing cost for the tree passed by making current node's(node_index) child as child(child_index) of its parent(parent_index) \n",
    "#under the condition that current node(node_index) is the left child of its parent(parent_index)\n",
    "def compute_cost_parent_left(tree1, node_index, parent_index, child_index, train_X, train_y):\n",
    "  tree1.tree_.children_left[parent_index] = child_index\n",
    "  tree1.tree_.feature[node_index] = -2\n",
    "  cost = cost_function(tree1, train_X, train_y)\n",
    "  return cost, tree1"
   ]
  },
  {
   "cell_type": "code",
   "execution_count": 15,
   "metadata": {
    "id": "pLkjNN6qsGAU"
   },
   "outputs": [],
   "source": [
    "#Computing cost for the tree passed by making current node's(node_index) child as child(child_index) of its parent(parent_index) \n",
    "#under the condition that current node(node_index) is the right child of its parent(parent_index)\n",
    "def compute_cost_parent_right(tree1, node_index, parent_index, child_index, train_X, train_y):\n",
    "  tree1.tree_.children_right[parent_index] = child_index\n",
    "  tree1.tree_.feature[node_index] = -2\n",
    "  cost = cost_function(tree1, train_X, train_y)\n",
    "  return cost, tree1"
   ]
  },
  {
   "cell_type": "code",
   "execution_count": 16,
   "metadata": {
    "colab": {
     "base_uri": "https://localhost:8080/"
    },
    "id": "12127avJWuI5",
    "outputId": "37ea019e-5dd5-4ebf-c6da-fd4aab9b7ec2"
   },
   "outputs": [
    {
     "name": "stdout",
     "output_type": "stream",
     "text": [
      "325\n",
      "Feature [ 7  6 18  0 15  7  2  7 -2 16 10 -2 12 -2 -2 -2 19 -2 10 -2 -2  2 -2 -2\n",
      " 16 -2 -2 -2  1 10  2 13 11 -2 11 19 -2 -2 -2  8 -2 -2  3 -2 -2  9 10 11\n",
      " -2 -2  0 -2 19 -2 -2 -2 14 -2 -2  7 16  7 -2 -2  2 -2 14 -2 -2 -2  9  7\n",
      "  1  2  1 12 12 -2 -2 -2 -2 -2 -2 -2 -2 -2 -2 -2 -2 -2 -2 -2 -2] Left [ 1  2  3  4  5  6  7  8 -1 10 11 -1 13 -1 -1 -1 17 -1 19 -1 -1 22 -1 -1\n",
      " 25 -1 -1 -1 29 30 31 32 33 -1 35 36 -1 -1 -1 40 -1 -1 43 -1 -1 46 47 48\n",
      " -1 -1 51 -1 53 -1 -1 -1 57 -1 -1 60 61 62 -1 -1 65 -1 67 -1 -1 -1 71 72\n",
      " 73 74 75 76 77 -1 -1 80 -1 -1 -1 -1 85 -1 -1 -1 89 -1 -1 -1 -1] Right [70 59 28 27 24 21 16  9 -1 15 12 -1 14 -1 -1 -1 18 -1 20 -1 -1 23 -1 -1\n",
      " 26 -1 -1 -1 56 45 42 39 34 -1 38 37 -1 -1 -1 41 -1 -1 44 -1 -1 55 50 49\n",
      " -1 -1 52 -1 54 -1 -1 -1 58 -1 -1 69 64 63 -1 -1 66 -1 68 -1 -1 -1 92 91\n",
      " -1 87 -1 83 -1 -1 82 81 -1 -1 -1 -1 86 -1 -1 -1 90 -1 -1 -1 -1]\n"
     ]
    }
   ],
   "source": [
    "#Computing cost of the tree by applying partial pruning on the full prunned tree achieved earlier\n",
    "feature_list = min_cost_tree.tree_.feature\n",
    "left_child_list = min_cost_tree.tree_.children_left\n",
    "right_child_list = min_cost_tree.tree_.children_right\n",
    "\n",
    "for node_index in range(1, len(feature_list)):\n",
    "  if feature_list[node_index] != _tree.TREE_UNDEFINED:\n",
    "    # node_index <- left child \n",
    "    if node_index in left_child_list:\n",
    "      parent_index = np.where(left_child_list == node_index)\n",
    "\n",
    "      node_left_child = left_child_list[node_index]\n",
    "      if feature_list[node_left_child] != -2:\n",
    "        cost, new_tree = compute_cost_parent_left(deepcopy(min_cost_tree), node_index, parent_index, node_left_child, train_X, train_y)\n",
    "        if cost < min_cost:\n",
    "          min_cost = cost\n",
    "          min_cost_tree = new_tree\n",
    "\n",
    "      node_right_child = right_child_list[node_index]\n",
    "      if feature_list[node_right_child] != -2:\n",
    "        cost, new_tree = compute_cost_parent_left(deepcopy(min_cost_tree), node_index, parent_index, node_right_child, train_X, train_y)\n",
    "        if cost < min_cost:\n",
    "          min_cost = cost\n",
    "          min_cost_tree = new_tree\n",
    "    else:\n",
    "      parent_index = np.where(right_child_list == node_index)\n",
    "\n",
    "      node_left_child = left_child_list[node_index]\n",
    "      if feature_list[node_left_child] != -2:\n",
    "        cost, new_tree = compute_cost_parent_right(deepcopy(min_cost_tree), node_index, parent_index, node_left_child, train_X, train_y)\n",
    "        if cost < min_cost:\n",
    "          min_cost = cost\n",
    "          min_cost_tree = new_tree\n",
    "\n",
    "      node_right_child = right_child_list[node_index]\n",
    "      if feature_list[node_right_child] != -2:\n",
    "        cost, new_tree = compute_cost_parent_right(deepcopy(min_cost_tree), node_index, parent_index, node_right_child, train_X, train_y)\n",
    "        if cost < min_cost:\n",
    "          min_cost = cost\n",
    "          min_cost_tree = new_tree\n",
    "print(min_cost)\n",
    "print('Feature', min_cost_tree.tree_.feature, 'Left', min_cost_tree.tree_.children_left, 'Right', min_cost_tree.tree_.children_right)\n"
   ]
  },
  {
   "cell_type": "code",
   "execution_count": 17,
   "metadata": {
    "id": "7YqBU8fr9e1n"
   },
   "outputs": [],
   "source": [
    "y_predict=my_predict(min_cost_tree,test_X)"
   ]
  },
  {
   "cell_type": "code",
   "execution_count": 18,
   "metadata": {
    "colab": {
     "base_uri": "https://localhost:8080/"
    },
    "id": "lyKE6NFG9egM",
    "outputId": "0995590c-d74c-43ee-81f2-f57ebd7a5dd6"
   },
   "outputs": [
    {
     "name": "stderr",
     "output_type": "stream",
     "text": [
      "/usr/local/lib/python3.7/dist-packages/sklearn/metrics/_classification.py:1272: UndefinedMetricWarning: Precision is ill-defined and being set to 0.0 in labels with no predicted samples. Use `zero_division` parameter to control this behavior.\n",
      "  _warn_prf(average, modifier, msg_start, len(result))\n"
     ]
    },
    {
     "data": {
      "text/plain": [
       "0.016091954022988506"
      ]
     },
     "execution_count": 18,
     "metadata": {},
     "output_type": "execute_result"
    }
   ],
   "source": [
    "precision_value=precision_score(test_y,y_predict,average='macro')\n",
    "precision_value"
   ]
  },
  {
   "cell_type": "code",
   "execution_count": 19,
   "metadata": {
    "colab": {
     "base_uri": "https://localhost:8080/"
    },
    "id": "yBA41p-t-8we",
    "outputId": "f6790f1c-46b2-4eab-f00e-9480bc56e468"
   },
   "outputs": [
    {
     "data": {
      "text/plain": [
       "0.3333333333333333"
      ]
     },
     "execution_count": 19,
     "metadata": {},
     "output_type": "execute_result"
    }
   ],
   "source": [
    "#Recall\n",
    "recall_value=recall_score(test_y,y_predict,average='macro')\n",
    "recall_value"
   ]
  },
  {
   "cell_type": "code",
   "execution_count": 20,
   "metadata": {
    "colab": {
     "base_uri": "https://localhost:8080/"
    },
    "id": "hSvrfFXa-8mI",
    "outputId": "043fd3df-65df-42dd-d978-925869642823"
   },
   "outputs": [
    {
     "data": {
      "text/plain": [
       "0.04827586206896552"
      ]
     },
     "execution_count": 20,
     "metadata": {},
     "output_type": "execute_result"
    }
   ],
   "source": [
    "#Accuracy\n",
    "accuracy_value=accuracy_score(test_y,y_predict)\n",
    "accuracy_value"
   ]
  },
  {
   "cell_type": "code",
   "execution_count": 21,
   "metadata": {
    "colab": {
     "base_uri": "https://localhost:8080/"
    },
    "id": "CCFse2Qz-8bL",
    "outputId": "4368a2cb-7394-4dce-d9ed-44f430a5cfe6"
   },
   "outputs": [
    {
     "data": {
      "text/plain": [
       "93"
      ]
     },
     "execution_count": 21,
     "metadata": {},
     "output_type": "execute_result"
    }
   ],
   "source": [
    "#Tree Size\n",
    "min_cost_tree.tree_.node_count"
   ]
  },
  {
   "cell_type": "code",
   "execution_count": 22,
   "metadata": {
    "colab": {
     "base_uri": "https://localhost:8080/",
     "height": 756
    },
    "id": "IKmWKRV--5nT",
    "outputId": "8937ef09-393e-49c3-8938-e6b645590115"
   },
   "outputs": [
    {
     "data": {
      "image/png": "[encoded data removed]",
      "text/plain": [
       "<Figure size 900x900 with 1 Axes>"
      ]
     },
     "metadata": {
      "needs_background": "light"
     },
     "output_type": "display_data"
    }
   ],
   "source": [
    "fig, axes = plt.subplots(nrows = 1,ncols = 1, figsize = (3,3), dpi=300)\n",
    "\n",
    "tree.plot_tree(min_cost_tree,\n",
    "               feature_names = train_X.columns, \n",
    "               class_names=np.unique(train_y).astype('str'),\n",
    "               filled = True)\n",
    "plt.savefig('DT_B_3.jpg')"
   ]
  },
  {
   "cell_type": "code",
   "execution_count": null,
   "metadata": {
    "id": "b6zV04vF-_zh"
   },
   "outputs": [],
   "source": []
  },
  {
   "cell_type": "code",
   "execution_count": null,
   "metadata": {
    "id": "vRzjzbVYc8P9"
   },
   "outputs": [],
   "source": []
  }
 ],
 "metadata": {
  "colab": {
   "collapsed_sections": [],
   "name": "B. Que3_HybridSliq.ipynb",
   "provenance": []
  },
  "kernelspec": {
   "display_name": "Python 3",
   "language": "python",
   "name": "python3"
  },
  "language_info": {
   "codemirror_mode": {
    "name": "ipython",
    "version": 3
   },
   "file_extension": ".py",
   "mimetype": "text/x-python",
   "name": "python",
   "nbconvert_exporter": "python",
   "pygments_lexer": "ipython3",
   "version": "3.8.5"
  }
 },
 "nbformat": 4,
 "nbformat_minor": 1
}
